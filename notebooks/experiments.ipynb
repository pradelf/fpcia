{
  "cells": [
    {
      "cell_type": "markdown",
      "metadata": {
        "id": "kktd1qvc8zMz"
      },
      "source": [
        "### Install Requirements"
      ]
    },
    {
      "cell_type": "code",
      "execution_count": null,
      "metadata": {
        "colab": {
          "base_uri": "https://localhost:8080/"
        },
        "id": "Ck93rzEKQXwJ",
        "outputId": "ff30c79f-ce26-4e0f-f1d1-218edd9e4af8"
      },
      "outputs": [],
      "source": [
        "%pip install fpcia\n",
        "#!/usr/bin/env python3\n",
        "import time\n",
        "import pytest\n",
        "from fpcia.performance import go_performance\n",
        "from fpcia.run import run      "
      ]
    }
  ],
  "metadata": {
    "colab": {
      "collapsed_sections": [
        "kktd1qvc8zMz",
        "BCgzWqwI8qi-",
        "aKmeSAiexjW6",
        "xjG0BtQH4AUG",
        "OTXZGcwGxjlT"
      ],
      "provenance": []
    },
    "kernelspec": {
      "display_name": "machineLearning",
      "language": "python",
      "name": "python3"
    },
    "language_info": {
      "codemirror_mode": {
        "name": "ipython",
        "version": 3
      },
      "file_extension": ".py",
      "mimetype": "text/x-python",
      "name": "python",
      "nbconvert_exporter": "python",
      "pygments_lexer": "ipython3",
      "version": "3.11.11"
    }
  },
  "nbformat": 4,
  "nbformat_minor": 0
}
